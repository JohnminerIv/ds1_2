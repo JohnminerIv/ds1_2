{
 "cells": [
  {
   "cell_type": "code",
   "execution_count": 4,
   "metadata": {},
   "outputs": [],
   "source": [
    "# Given two arrays, determine if both arrays contain exactly the same elements, regardless of their order.\n",
    "\n",
    "# So you would want me to probably \n",
    "\n"
   ]
  },
  {
   "cell_type": "code",
   "execution_count": 5,
   "metadata": {},
   "outputs": [],
   "source": [
    "# Given a string containing a long text, find the most commonly occurring word in the text as well as its count.\n",
    "\n"
   ]
  },
  {
   "cell_type": "code",
   "execution_count": 18,
   "metadata": {},
   "outputs": [],
   "source": [
    "#Given a sorted array, find the index of the first and last occurrence of a given element. If the given element is not found in the array, report that.\n",
    "\n",
    "def binary_search_iterative(array, item):\n",
    "    # TODO: implement binary search iteratively here\n",
    "    right = len(array) - 1\n",
    "    left = 0\n",
    "    # sqrt_len_array = int(math.sqrt(right))\n",
    "    while left <= right:  # o(log n) because it halves the list of items to search in each iteration\n",
    "        midpoint = left + ((right-left)//2)\n",
    "        if array[midpoint] == item:\n",
    "            return midpoint\n",
    "        elif array[midpoint] < item:\n",
    "            left = midpoint + 1\n",
    "        else:\n",
    "            right = midpoint - 1\n",
    "    return None\n",
    "\n",
    "def first_last_index(ls, t):\n",
    "    index = binary_search_iterative(ls, t)\n",
    "    start = None\n",
    "    end = None\n",
    "    if index is None:\n",
    "        return False\n",
    "    while ls[index] == t:\n",
    "        index -= 1\n",
    "    index += 1\n",
    "    start = index\n",
    "    while ls[index] == t:\n",
    "        index += 1\n",
    "    index -= 1\n",
    "    end = index\n",
    "    return (start, end)\n"
   ]
  },
  {
   "cell_type": "code",
   "execution_count": 19,
   "metadata": {},
   "outputs": [
    {
     "name": "stdout",
     "output_type": "stream",
     "text": [
      "(5, 11)\n"
     ]
    }
   ],
   "source": [
    "print(first_last_index([1,1,1,2,2,4,4,4,4,4,4,4,5,5,5,5,6,6,6,7,8,], 4))"
   ]
  },
  {
   "cell_type": "code",
   "execution_count": 15,
   "metadata": {},
   "outputs": [],
   "source": [
    "# Given an array a of numbers and a target value t, find two numbers that sum to t (that is, a[i] + a[j] = t).\n",
    "\n",
    "def two_sum(ls, t):\n",
    "    possibles, s = list(), set()\n",
    "    for i in ls:\n",
    "        if i in s:\n",
    "            possibles.append((i, t-i))\n",
    "            s.remove(i)\n",
    "        else:\n",
    "            s.add(t-i)\n",
    "    return possibles\n"
   ]
  },
  {
   "cell_type": "code",
   "execution_count": 17,
   "metadata": {},
   "outputs": [
    {
     "name": "stdout",
     "output_type": "stream",
     "text": [
      "[(4, 4), (4, 4), (5, 3), (7, 1), (10, -2)]\n"
     ]
    }
   ],
   "source": [
    "print(two_sum([1,-2,3,4,4,4,4,5,6,7,7,8,10], 8))"
   ]
  },
  {
   "cell_type": "code",
   "execution_count": null,
   "metadata": {},
   "outputs": [],
   "source": []
  }
 ],
 "metadata": {
  "kernelspec": {
   "display_name": "Python 3",
   "language": "python",
   "name": "python3"
  },
  "language_info": {
   "codemirror_mode": {
    "name": "ipython",
    "version": 3
   },
   "file_extension": ".py",
   "mimetype": "text/x-python",
   "name": "python",
   "nbconvert_exporter": "python",
   "pygments_lexer": "ipython3",
   "version": "3.7.6"
  }
 },
 "nbformat": 4,
 "nbformat_minor": 2
}
