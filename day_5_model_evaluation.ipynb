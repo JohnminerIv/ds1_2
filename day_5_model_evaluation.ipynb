{
 "cells": [
  {
   "cell_type": "code",
   "execution_count": 78,
   "metadata": {},
   "outputs": [],
   "source": [
    "import pandas as pd\n",
    "import numpy as np\n",
    "import matplotlib.pyplot as plt\n",
    "from sklearn.model_selection import train_test_split\n",
    "from sklearn.linear_model import LogisticRegression\n",
    "from sklearn import metrics\n",
    "confusion_m = np.array([[118., 12.], [ 47., 15.]])"
   ]
  },
  {
   "cell_type": "code",
   "execution_count": 113,
   "metadata": {},
   "outputs": [],
   "source": [
    "def evaluation(mat):\n",
    "    acc = (mat[0][0] + mat[1][1])/mat.sum()\n",
    "    err = 1 - acc\n",
    "    recall = mat[1][1]/(mat[1][1]+mat[1][0])\n",
    "    perci = mat[1][1]/(mat[1][1]+mat[0][1])\n",
    "    spec = mat[0][0]/(mat[0][0]+mat[0][1])\n",
    "    f1 = 2* (perci*recall)/(perci+recall)\n",
    "    return acc, perci, recall, spec, f1"
   ]
  },
  {
   "cell_type": "code",
   "execution_count": 80,
   "metadata": {},
   "outputs": [
    {
     "name": "stdout",
     "output_type": "stream",
     "text": [
      "(0.6927083333333334, 0.30729166666666663, 0.24193548387096775, 0.5555555555555556, 0.9076923076923077, 0.3370786516853933)\n"
     ]
    }
   ],
   "source": [
    "print(elavuation(confusion_m))"
   ]
  },
  {
   "cell_type": "code",
   "execution_count": 81,
   "metadata": {},
   "outputs": [
    {
     "name": "stdout",
     "output_type": "stream",
     "text": [
      "Index([u'Pregnancies', u'Glucose', u'BloodPressure', u'SkinThickness',\n",
      "       u'Insulin', u'BMI', u'DiabetesPedigreeFunction', u'Age', u'Outcome'],\n",
      "      dtype='object')\n",
      "   Pregnancies  Glucose  BloodPressure  SkinThickness  Insulin   BMI  \\\n",
      "0            6      148             72             35        0  33.6   \n",
      "1            1       85             66             29        0  26.6   \n",
      "2            8      183             64              0        0  23.3   \n",
      "3            1       89             66             23       94  28.1   \n",
      "4            0      137             40             35      168  43.1   \n",
      "\n",
      "   DiabetesPedigreeFunction  Age  Outcome  \n",
      "0                     0.627   50        1  \n",
      "1                     0.351   31        0  \n",
      "2                     0.672   32        1  \n",
      "3                     0.167   21        0  \n",
      "4                     2.288   33        1  \n"
     ]
    }
   ],
   "source": [
    "import pandas as pd\n",
    "from sklearn.model_selection import train_test_split\n",
    "from sklearn.linear_model import LogisticRegression\n",
    "\n",
    "pima = pd.read_csv('diabetes.csv')\n",
    "print(pima.columns)\n",
    "print(pima.head())\n",
    "\n",
    "feature_cols = ['Pregnancies', 'Insulin', 'BMI', 'Age']\n",
    "\n",
    "X = pima[feature_cols]\n",
    "# print(X)\n",
    "# y is a vector, hence we use dot to access 'label'\n",
    "y = pima['Outcome']\n",
    "\n",
    "# split X and y into training and testing sets\n",
    "X_train, X_test, y_train, y_test = train_test_split(X, y, test_size=0.25, random_state=0)\n",
    "\n",
    "\n",
    "logreg = LogisticRegression()\n",
    "\n",
    "# fit model\n",
    "logreg.fit(X_train, y_train)\n",
    "\n",
    "y_pred_prob = logreg.predict_proba(X_test)\n",
    "y_pred = logreg.predict(X_test)"
   ]
  },
  {
   "cell_type": "code",
   "execution_count": 97,
   "metadata": {},
   "outputs": [],
   "source": [
    "def proba_to_pred(yproba, ratio):\n",
    "    return [0 if yproba[i][1] < ratio else 1 for i in range(len(yproba))]"
   ]
  },
  {
   "cell_type": "code",
   "execution_count": 98,
   "metadata": {},
   "outputs": [],
   "source": [
    "def same(ls, ls2):\n",
    "    for i in range(len(ls)):\n",
    "        if ls[i] != ls2[i]:\n",
    "            return False\n",
    "    return True"
   ]
  },
  {
   "cell_type": "code",
   "execution_count": 99,
   "metadata": {},
   "outputs": [],
   "source": [
    "def confusion(yt, yp):\n",
    "    ma = np.zeros((2,2))\n",
    "    for i in range(len(yt)):\n",
    "        if yt[i] == yp[i] and yp[i] == 0:\n",
    "            ma[0][0] += 1\n",
    "        elif yt[i] == yp[i] and yp[i] == 1:\n",
    "            ma[1][1] += 1\n",
    "        elif yt[i] != yp[i] and yp[i] == 0:\n",
    "            ma[1][0] += 1\n",
    "        elif yt[i] != yp[i] and yp[i] == 1:\n",
    "            ma[0][1] += 1\n",
    "    return ma"
   ]
  },
  {
   "cell_type": "code",
   "execution_count": 100,
   "metadata": {},
   "outputs": [
    {
     "data": {
      "text/plain": [
       "0.3576388888888889"
      ]
     },
     "execution_count": 100,
     "metadata": {},
     "output_type": "execute_result"
    }
   ],
   "source": [
    "float(y_train.value_counts()[1])/len(y_train)"
   ]
  },
  {
   "cell_type": "code",
   "execution_count": 101,
   "metadata": {},
   "outputs": [],
   "source": [
    "my_predict = proba_to_pred(y_pred_prob, 0.3576388888888889)"
   ]
  },
  {
   "cell_type": "code",
   "execution_count": 102,
   "metadata": {},
   "outputs": [
    {
     "data": {
      "text/plain": [
       "False"
      ]
     },
     "execution_count": 102,
     "metadata": {},
     "output_type": "execute_result"
    }
   ],
   "source": [
    "same(my_predict, y_pred)"
   ]
  },
  {
   "cell_type": "code",
   "execution_count": 103,
   "metadata": {},
   "outputs": [
    {
     "data": {
      "text/plain": [
       "array([[87., 43.],\n",
       "       [24., 38.]])"
      ]
     },
     "execution_count": 103,
     "metadata": {},
     "output_type": "execute_result"
    }
   ],
   "source": [
    "confusion(list(y_test), my_predict)"
   ]
  },
  {
   "cell_type": "code",
   "execution_count": 110,
   "metadata": {},
   "outputs": [],
   "source": [
    "from sklearn.preprocessing import binarize\n",
    "y_pred_prob_class_1 = logreg.predict_proba(X_test)[:,1]\n",
    "y_pred_threshold = binarize(y_pred_prob_class_1.reshape(1,-1), 0.335195)[0]"
   ]
  },
  {
   "cell_type": "code",
   "execution_count": 111,
   "metadata": {},
   "outputs": [
    {
     "data": {
      "text/plain": [
       "array([1., 0., 0., 1., 0., 0., 1., 1., 0., 1., 1., 1., 1., 0., 1., 0., 1.,\n",
       "       0., 1., 1., 1., 1., 0., 1., 0., 0., 0., 1., 0., 0., 1., 1., 0., 1.,\n",
       "       0., 1., 1., 0., 0., 0., 0., 1., 0., 0., 1., 0., 0., 0., 1., 0., 0.,\n",
       "       0., 1., 1., 1., 0., 0., 1., 0., 0., 1., 1., 0., 0., 0., 0., 1., 0.,\n",
       "       1., 1., 0., 0., 0., 1., 1., 0., 1., 1., 0., 1., 1., 1., 0., 0., 0.,\n",
       "       1., 0., 1., 1., 1., 0., 0., 0., 0., 1., 0., 1., 1., 1., 1., 1., 0.,\n",
       "       1., 0., 1., 1., 0., 0., 0., 0., 0., 1., 1., 0., 1., 1., 0., 0., 0.,\n",
       "       1., 1., 1., 1., 1., 0., 0., 1., 1., 1., 0., 0., 0., 0., 1., 1., 1.,\n",
       "       0., 1., 0., 0., 0., 1., 0., 1., 1., 0., 0., 0., 0., 1., 0., 1., 0.,\n",
       "       0., 1., 0., 1., 0., 1., 1., 1., 1., 0., 0., 1., 0., 1., 0., 0., 0.,\n",
       "       0., 1., 0., 1., 1., 0., 1., 1., 0., 0., 1., 1., 0., 1., 0., 0., 1.,\n",
       "       0., 0., 0., 0., 0.])"
      ]
     },
     "execution_count": 111,
     "metadata": {},
     "output_type": "execute_result"
    }
   ],
   "source": [
    "y_pred_threshold"
   ]
  },
  {
   "cell_type": "code",
   "execution_count": 114,
   "metadata": {},
   "outputs": [
    {
     "data": {
      "text/plain": [
       "(0.671875,\n",
       " 0.4945054945054945,\n",
       " 0.7258064516129032,\n",
       " 0.6461538461538462,\n",
       " 0.5882352941176471)"
      ]
     },
     "execution_count": 114,
     "metadata": {},
     "output_type": "execute_result"
    }
   ],
   "source": [
    "evaluation(confusion(list(y_test), y_pred_threshold))"
   ]
  },
  {
   "cell_type": "code",
   "execution_count": 115,
   "metadata": {},
   "outputs": [
    {
     "name": "stdout",
     "output_type": "stream",
     "text": [
      "500\n",
      "268\n",
      "[0.7012987  0.66883117 0.68831169 0.71895425 0.66666667]\n",
      "0.6888124946948476\n",
      "[0.5        0.38554217 0.38461538 0.4556962  0.4       ]\n",
      "0.4251707511643458\n"
     ]
    }
   ],
   "source": [
    "\n",
    "from sklearn.model_selection import cross_val_score \n",
    "import pandas as pd\n",
    "from sklearn.linear_model import LogisticRegression\n",
    "\n",
    "pima = pd.read_csv('diabetes.csv')\n",
    "\n",
    "feature_cols = ['Pregnancies', 'Insulin', 'BMI', 'Age']\n",
    "\n",
    "# X is a matrix,access the features we want in feature_cols\n",
    "X = pima[feature_cols]\n",
    "\n",
    "# y is a vector, hence we use dot to access 'label'\n",
    "y = pima['Outcome']\n",
    "\n",
    "print(y.value_counts()[0])\n",
    "print(y.value_counts()[1])\n",
    "\n",
    "logreg = LogisticRegression(class_weight={1: 500/268})\n",
    "#logreg = LogisticRegression(class_weight={1: y.value_counts()[0]/y.value_counts()[1]})\n",
    "# logreg = LogisticRegression()\n",
    "\n",
    "all_accuracies = cross_val_score(estimator=logreg, X=X, y=y, cv=5, scoring='accuracy')\n",
    "print(all_accuracies)\n",
    "print(all_accuracies.mean())\n",
    "\n",
    "all_f1 = cross_val_score(estimator=logreg, X=X, y=y, cv=5, scoring='f1')\n",
    "print(all_f1)\n",
    "print(all_f1.mean())"
   ]
  },
  {
   "cell_type": "markdown",
   "metadata": {},
   "source": [
    "\n",
    "How to choose Models based on Cross-Validation\n",
    "We want to have low variance result for CV -> pick a model that has lower variance\n",
    "\n",
    "If two models have low variance result for CV -> pick a model that has higher mean\n",
    "\n",
    "Grid Search for Parameter Selection\n",
    "Machine learning models have hyper-parameters. To know which values of hyper-paramaeters give the best result we need grid search\n",
    "\n",
    "Question: what does grid search mean?"
   ]
  },
  {
   "cell_type": "code",
   "execution_count": null,
   "metadata": {},
   "outputs": [],
   "source": []
  }
 ],
 "metadata": {
  "kernelspec": {
   "display_name": "Python 2",
   "language": "python",
   "name": "python2"
  },
  "language_info": {
   "codemirror_mode": {
    "name": "ipython",
    "version": 2
   },
   "file_extension": ".py",
   "mimetype": "text/x-python",
   "name": "python",
   "nbconvert_exporter": "python",
   "pygments_lexer": "ipython2",
   "version": "2.7.16"
  }
 },
 "nbformat": 4,
 "nbformat_minor": 2
}
