{
 "cells": [
  {
   "cell_type": "code",
   "execution_count": 15,
   "metadata": {},
   "outputs": [
    {
     "name": "stdout",
     "output_type": "stream",
     "text": [
      "['and', 'first', 'is', 'one', 'second', 'sentence', 'the', 'third', 'this']\n",
      "[[0 1 1 0 0 1 1 0 1]\n",
      " [0 0 1 1 1 1 1 0 1]\n",
      " [1 0 1 1 0 0 1 1 1]\n",
      " [0 1 1 0 0 1 1 0 1]]\n"
     ]
    }
   ],
   "source": [
    "from sklearn.feature_extraction.text import CountVectorizer, TfidfVectorizer\n",
    "from sklearn.cluster import KMeans\n",
    "from sklearn.metrics import adjusted_rand_score\n",
    "import numpy as np\n",
    "\n",
    "sentences = ['This is the first sentence.',\n",
    "             'This one is the second sentence.',\n",
    "             'And this is the third one.',\n",
    "             'Is this the first sentence?']\n",
    "vectorizer = CountVectorizer()\n",
    "# create a term-document matrix: assign each word a tuple: \n",
    "# first number is the sentence, and the second is the unique number that corresponds to the word\n",
    "# for example, if the word \"one\" is assigned the number 3,\n",
    "# then the word \"one\" that is used in the third sentence is represented by the tuple (2,3)\n",
    "X = vectorizer.fit_transform(sentences)\n",
    "\n",
    "\n",
    "# Get the unique words\n",
    "print(vectorizer.get_feature_names())\n",
    "\n",
    "\n",
    "# from the term-document matrix, create the BoW matrix\n",
    "print(X.toarray())"
   ]
  },
  {
   "cell_type": "code",
   "execution_count": 16,
   "metadata": {},
   "outputs": [
    {
     "name": "stdout",
     "output_type": "stream",
     "text": [
      "['are', 'best', 'cool', 'data', 'has', 'is', 'science', 'the', 'these', 'topics', 'track']\n",
      "[[0 1 0 1 0 1 1 1 0 0 0]\n",
      " [0 0 1 1 1 0 1 0 0 1 0]\n",
      " [1 1 0 0 0 0 0 1 1 1 0]\n",
      " [0 1 0 1 0 1 1 1 0 0 1]]\n"
     ]
    }
   ],
   "source": [
    "sentences = ['Data Science is the best.',\n",
    "             'Data Science has cool topics.',\n",
    "             'Are these the best topics?',\n",
    "             'Is Data Science the best track?']\n",
    "\n",
    "vectorizer = CountVectorizer()\n",
    "# create a term-document matrix: assign each word a tuple: \n",
    "# first number is the sentence, and the second is the unique number that corresponds to the word\n",
    "# for example, if the word \"one\" is assigned the number 3,\n",
    "# then the word \"one\" that is used in the third sentence is represented by the tuple (2,3)\n",
    "X = vectorizer.fit_transform(sentences)\n",
    "\n",
    "# Get the unique words\n",
    "print(vectorizer.get_feature_names())\n",
    "\n",
    "# from the term-document matrix, create the BoW matrix\n",
    "print(X.toarray())"
   ]
  },
  {
   "cell_type": "code",
   "execution_count": 36,
   "metadata": {},
   "outputs": [
    {
     "data": {
      "text/plain": [
       "<matplotlib.collections.PathCollection at 0x129294e50>"
      ]
     },
     "execution_count": 36,
     "metadata": {},
     "output_type": "execute_result"
    },
    {
     "data": {
      "image/png": "[encoded data removed]",
      "text/plain": [
       "<Figure size 432x288 with 1 Axes>"
      ]
     },
     "metadata": {
      "needs_background": "light"
     },
     "output_type": "display_data"
    }
   ],
   "source": [
    "from sklearn.datasets.samples_generator import make_blobs\n",
    "import matplotlib.pyplot as plt\n",
    "\n",
    "# create a sample dataset with 300 data points and 4 cluster centers\n",
    "X, y = make_blobs(n_samples=300, centers=4,\n",
    "                          random_state=0, cluster_std=0.60)\n",
    "\n",
    "# plot the data\n",
    "plt.scatter(X[:, 0], X[:, 1])"
   ]
  },
  {
   "cell_type": "code",
   "execution_count": 37,
   "metadata": {},
   "outputs": [
    {
     "name": "stdout",
     "output_type": "stream",
     "text": [
      "[[-1.58438467  2.83081263]\n",
      " [ 1.98258281  0.86771314]\n",
      " [ 0.94973532  4.41906906]\n",
      " [-1.37324398  7.75368871]]\n"
     ]
    }
   ],
   "source": [
    "from sklearn.cluster import KMeans\n",
    "\n",
    "# k-means algorithm where k = 4\n",
    "km = KMeans(n_clusters=4)\n",
    "# perform k-means clustering on the previous dataset\n",
    "km.fit(X)\n",
    "# print the 4 cluster centers\n",
    "print(km.cluster_centers_)"
   ]
  },
  {
   "cell_type": "code",
   "execution_count": 38,
   "metadata": {},
   "outputs": [],
   "source": [
    "my_list = [0,0,0,0]\n",
    "the_list = np.array(km.cluster_centers_)\n",
    "for i in X:\n",
    "    its_list = []\n",
    "    for j in the_list:\n",
    "        its_list.append(np.sqrt((i[0]-j[0])**2 +(i[1]-j[1])**2))\n",
    "    my_list[its_list.index(min(its_list))] += 1"
   ]
  },
  {
   "cell_type": "code",
   "execution_count": 40,
   "metadata": {},
   "outputs": [
    {
     "data": {
      "text/plain": [
       "[75, 75, 75, 75]"
      ]
     },
     "execution_count": 40,
     "metadata": {},
     "output_type": "execute_result"
    }
   ],
   "source": [
    "my_list"
   ]
  },
  {
   "cell_type": "code",
   "execution_count": 41,
   "metadata": {},
   "outputs": [
    {
     "ename": "NameError",
     "evalue": "name 'Counter' is not defined",
     "output_type": "error",
     "traceback": [
      "\u001b[0;31m---------------------------------------------------------------------------\u001b[0m",
      "\u001b[0;31mNameError\u001b[0m                                 Traceback (most recent call last)",
      "\u001b[0;32m<ipython-input-41-e62e6a75578b>\u001b[0m in \u001b[0;36m<module>\u001b[0;34m\u001b[0m\n\u001b[1;32m      1\u001b[0m \u001b[0mpredictions\u001b[0m \u001b[0;34m=\u001b[0m \u001b[0mkm\u001b[0m\u001b[0;34m.\u001b[0m\u001b[0mpredict\u001b[0m\u001b[0;34m(\u001b[0m\u001b[0mX\u001b[0m\u001b[0;34m)\u001b[0m\u001b[0;34m\u001b[0m\u001b[0;34m\u001b[0m\u001b[0m\n\u001b[0;32m----> 2\u001b[0;31m \u001b[0mprint\u001b[0m\u001b[0;34m(\u001b[0m\u001b[0mCounter\u001b[0m\u001b[0;34m(\u001b[0m\u001b[0mpredictions\u001b[0m\u001b[0;34m)\u001b[0m\u001b[0;34m)\u001b[0m\u001b[0;34m\u001b[0m\u001b[0;34m\u001b[0m\u001b[0m\n\u001b[0m",
      "\u001b[0;31mNameError\u001b[0m: name 'Counter' is not defined"
     ]
    }
   ],
   "source": [
    "predictions = km.predict(X)\n",
    "print(Counter(predictions))"
   ]
  },
  {
   "cell_type": "code",
   "execution_count": 19,
   "metadata": {},
   "outputs": [],
   "source": [
    "one = np.array([1, 1])\n",
    "two = np.array([2, 2])\n",
    "three = np.array([3, 8])"
   ]
  },
  {
   "cell_type": "code",
   "execution_count": 22,
   "metadata": {},
   "outputs": [
    {
     "name": "stdout",
     "output_type": "stream",
     "text": [
      "[1 1] [2 2]\n",
      "1.4142135623730951\n",
      "[1 1] [3 8]\n",
      "7.280109889280518\n",
      "[2 2] [1 1]\n",
      "1.4142135623730951\n",
      "[2 2] [3 8]\n",
      "6.082762530298219\n",
      "[3 8] [1 1]\n",
      "7.280109889280518\n",
      "[3 8] [2 2]\n",
      "6.082762530298219\n"
     ]
    }
   ],
   "source": [
    "ls = [one, two, three]\n",
    "for i in ls:\n",
    "    for j in ls:\n",
    "        if i is not j:\n",
    "            print(i, j)\n",
    "            print(np.sqrt((i[0]-j[0])**2 +(i[1]-j[1])**2))"
   ]
  },
  {
   "cell_type": "code",
   "execution_count": 23,
   "metadata": {},
   "outputs": [
    {
     "data": {
      "text/plain": [
       "7.280109889280518"
      ]
     },
     "execution_count": 23,
     "metadata": {},
     "output_type": "execute_result"
    }
   ],
   "source": [
    "np.linalg.norm(one-three)"
   ]
  },
  {
   "cell_type": "code",
   "execution_count": 24,
   "metadata": {},
   "outputs": [
    {
     "data": {
      "image/png": "[encoded data removed]",
      "text/plain": [
       "<Figure size 432x288 with 1 Axes>"
      ]
     },
     "metadata": {
      "needs_background": "light"
     },
     "output_type": "display_data"
    }
   ],
   "source": [
    "\n",
    "import numpy as np\n",
    "from scipy.spatial import distance\n",
    "\n",
    "distortions = []\n",
    "K = range(1, 10)\n",
    "for k in K:\n",
    "    # fit the k-means for a given k to the data (X)\n",
    "    km = KMeans(n_clusters=k)\n",
    "    km.fit(X)\n",
    "    # distance.cdist finds the squared distances\n",
    "    # axis=1 allows us to keep the min for each sample, not jsut the min across the entire dataset\n",
    "    # find the closest distance for each sample to a center, and take the average\n",
    "    distortions.append(sum(np.min(distance.cdist(X, km.cluster_centers_, 'euclidean'), axis=1)) / X.shape[0])\n",
    "\n",
    "# Plot the elbow: bx- = use a solid (-) blue (b) line, \n",
    "# and mark the x-axis points with an x (x)\n",
    "plt.plot(K, distortions, 'bx-')\n",
    "plt.xlabel('k')\n",
    "plt.ylabel('Distortion')\n",
    "plt.title('The Elbow Method showing the optimal k')\n",
    "plt.show()"
   ]
  },
  {
   "cell_type": "code",
   "execution_count": 25,
   "metadata": {},
   "outputs": [
    {
     "data": {
      "image/png": "[encoded data removed]",
      "text/plain": [
       "<Figure size 432x288 with 1 Axes>"
      ]
     },
     "metadata": {
      "needs_background": "light"
     },
     "output_type": "display_data"
    }
   ],
   "source": [
    "sum_of_squared_distances = []\n",
    "K = range(1,15)\n",
    "for k in K:\n",
    "    km = KMeans(n_clusters=k)\n",
    "    km.fit(X)\n",
    "    # inertia is an attribute of km!\n",
    "    # https://scikit-learn.org/stable/modules/generated/sklearn.cluster.KMeans.html#sklearn.cluster.KMeans\n",
    "    sum_of_squared_distances.append(km.inertia_)\n",
    "    \n",
    "\n",
    "    # Plot the elbow\n",
    "plt.plot(K, sum_of_squared_distances, 'bx-')\n",
    "plt.xlabel('k')\n",
    "plt.ylabel('Distortion')\n",
    "plt.title('The Elbow Method showing the optimal k')\n",
    "plt.show()"
   ]
  },
  {
   "cell_type": "code",
   "execution_count": 26,
   "metadata": {},
   "outputs": [
    {
     "data": {
      "text/plain": [
       "<matplotlib.collections.PathCollection at 0x1290a7390>"
      ]
     },
     "execution_count": 26,
     "metadata": {},
     "output_type": "execute_result"
    },
    {
     "data": {
      "image/png": "[encoded data removed]",
      "text/plain": [
       "<Figure size 432x288 with 1 Axes>"
      ]
     },
     "metadata": {
      "needs_background": "light"
     },
     "output_type": "display_data"
    }
   ],
   "source": [
    "from sklearn.datasets.samples_generator import make_blobs\n",
    "import matplotlib.pyplot as plt\n",
    "\n",
    "Data, blob_y = make_blobs(n_samples=500, centers=6,\n",
    "                          random_state=0, cluster_std=0.80)\n",
    "\n",
    "# plot the data\n",
    "plt.scatter(Data[:, 0], Data[:, 1])"
   ]
  },
  {
   "cell_type": "code",
   "execution_count": 27,
   "metadata": {},
   "outputs": [
    {
     "data": {
      "image/png": "[encoded data removed]",
      "text/plain": [
       "<Figure size 432x288 with 1 Axes>"
      ]
     },
     "metadata": {
      "needs_background": "light"
     },
     "output_type": "display_data"
    }
   ],
   "source": [
    "sum_of_squared_distances = []\n",
    "K = range(1,10)\n",
    "for k in K:\n",
    "    km = KMeans(n_clusters=k)\n",
    "    km.fit(Data)\n",
    "    # inertia is an attribute of km!\n",
    "    # https://scikit-learn.org/stable/modules/generated/sklearn.cluster.KMeans.html#sklearn.cluster.KMeans\n",
    "    sum_of_squared_distances.append(km.inertia_)\n",
    "    \n",
    "\n",
    "    # Plot the elbow\n",
    "plt.plot(K, sum_of_squared_distances, 'bx-')\n",
    "plt.xlabel('k')\n",
    "plt.ylabel('Distortion')\n",
    "plt.title('The Elbow Method showing the optimal k')\n",
    "plt.show()"
   ]
  },
  {
   "cell_type": "code",
   "execution_count": 43,
   "metadata": {},
   "outputs": [
    {
     "name": "stdout",
     "output_type": "stream",
     "text": [
      "['100', 'app', 'belly', 'best', 'came', 'cat', 'chrome', 'climbing', 'eating', 'extension', 'face', 'feedback', 'google', 'impressed', 'incredible', 'key', 'kitten', 'kitty', 'little', 'map', 'merley', 'ninja', 'open', 'photo', 'play', 'promoter', 'restaurant', 'smiley', 'squooshy', 'tab', 'taken', 'translate', 've']\n",
      "[[0 0 0 0 1 0 0 0 1 0 0 0 0 0 0 0 0 1 1 0 0 0 0 0 1 0 1 0 0 0 0 0 0]\n",
      " [0 0 1 1 0 0 0 0 0 0 0 0 0 0 0 0 1 0 0 0 1 0 0 0 0 0 0 0 1 0 0 0 0]\n",
      " [0 1 0 0 0 0 0 0 0 0 0 0 1 0 1 0 0 0 0 0 0 0 0 0 0 0 0 0 0 0 0 1 0]\n",
      " [1 0 0 0 0 0 0 0 0 0 1 0 1 0 0 0 0 0 0 0 0 0 1 0 0 0 0 1 0 1 0 0 0]\n",
      " [0 0 0 1 0 1 0 0 0 0 0 0 0 0 0 0 0 0 0 0 0 0 0 1 0 0 0 0 0 0 1 0 1]\n",
      " [0 0 0 0 0 1 0 1 0 0 0 0 0 0 0 0 0 0 0 0 0 1 0 0 0 0 0 0 0 0 0 0 0]\n",
      " [0 0 0 0 0 0 0 0 0 0 0 1 1 1 0 0 0 0 0 1 0 0 0 0 0 0 0 0 0 0 0 0 0]\n",
      " [0 0 0 0 0 0 1 0 0 1 0 0 1 0 0 1 0 0 0 0 0 0 0 0 0 1 0 0 0 0 0 0 0]]\n"
     ]
    }
   ],
   "source": [
    "from sklearn.feature_extraction.text import CountVectorizer, TfidfVectorizer\n",
    "from sklearn.cluster import KMeans\n",
    "from sklearn.metrics import adjusted_rand_score\n",
    "\n",
    "sentences = [\"This little kitty came to play when I was eating at a restaurant.\",\n",
    "             \"Merley has the best squooshy kitten belly.\",\n",
    "             \"Google Translate app is incredible.\",\n",
    "             \"If you open 100 tab in google you get a smiley face.\",\n",
    "             \"Best cat photo I've ever taken.\",\n",
    "             \"Climbing ninja cat.\",\n",
    "             \"Impressed with google map feedback.\",\n",
    "             \"Key promoter extension for Google Chrome.\"]\n",
    "vectorizer = CountVectorizer(stop_words='english')\n",
    "X = vectorizer.fit_transform(sentences)\n",
    "print(vectorizer.get_feature_names())\n",
    "print(X.toarray())"
   ]
  },
  {
   "cell_type": "code",
   "execution_count": 59,
   "metadata": {},
   "outputs": [
    {
     "name": "stdout",
     "output_type": "stream",
     "text": [
      "[[0.   0.   0.25 0.5  0.25 0.5  0.   0.25 0.25 0.   0.   0.   0.   0.\n",
      "  0.   0.   0.25 0.25 0.25 0.   0.25 0.25 0.   0.25 0.25 0.   0.25 0.\n",
      "  0.25 0.   0.25 0.   0.25]\n",
      " [0.25 0.25 0.   0.   0.   0.   0.25 0.   0.   0.25 0.25 0.25 1.   0.25\n",
      "  0.25 0.25 0.   0.   0.   0.25 0.   0.   0.25 0.   0.   0.25 0.   0.25\n",
      "  0.   0.25 0.   0.25 0.  ]]\n",
      "[0 0 1 1 0 0 1 1]\n"
     ]
    }
   ],
   "source": [
    "km = KMeans(n_clusters=2)\n",
    "# perform k-means clustering on the previous dataset\n",
    "km.fit(X)\n",
    "# print the 4 cluster centers\n",
    "print(km.cluster_centers_)\n",
    "print(km.predict(X))"
   ]
  },
  {
   "cell_type": "code",
   "execution_count": 53,
   "metadata": {},
   "outputs": [
    {
     "data": {
      "image/png": "[encoded data removed]",
      "text/plain": [
       "<Figure size 432x288 with 1 Axes>"
      ]
     },
     "metadata": {
      "needs_background": "light"
     },
     "output_type": "display_data"
    }
   ],
   "source": [
    "sum_of_squared_distances = []\n",
    "K = range(1,8)\n",
    "for k in K:\n",
    "    km = KMeans(n_clusters=k)\n",
    "    km.fit(Data)\n",
    "    # inertia is an attribute of km!\n",
    "    # https://scikit-learn.org/stable/modules/generated/sklearn.cluster.KMeans.html#sklearn.cluster.KMeans\n",
    "    sum_of_squared_distances.append(km.inertia_)\n",
    "    \n",
    "\n",
    "    # Plot the elbow\n",
    "plt.plot(K, sum_of_squared_distances, 'bx-')\n",
    "plt.xlabel('k')\n",
    "plt.ylabel('Distortion')\n",
    "plt.title('The Elbow Method showing the optimal k')\n",
    "plt.show()"
   ]
  },
  {
   "cell_type": "code",
   "execution_count": 64,
   "metadata": {},
   "outputs": [
    {
     "data": {
      "text/plain": [
       "array([0], dtype=int32)"
      ]
     },
     "execution_count": 64,
     "metadata": {},
     "output_type": "execute_result"
    }
   ],
   "source": [
    "confused = vectorizer.transform(['My ninja key.'])\n",
    "km.predict(confused)"
   ]
  },
  {
   "cell_type": "code",
   "execution_count": null,
   "metadata": {},
   "outputs": [],
   "source": []
  }
 ],
 "metadata": {
  "kernelspec": {
   "display_name": "Python 3",
   "language": "python",
   "name": "python3"
  },
  "language_info": {
   "codemirror_mode": {
    "name": "ipython",
    "version": 3
   },
   "file_extension": ".py",
   "mimetype": "text/x-python",
   "name": "python",
   "nbconvert_exporter": "python",
   "pygments_lexer": "ipython3",
   "version": "3.7.6"
  }
 },
 "nbformat": 4,
 "nbformat_minor": 2
}
