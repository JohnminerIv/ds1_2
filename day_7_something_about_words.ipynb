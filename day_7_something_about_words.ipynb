{
 "cells": [
  {
   "cell_type": "code",
   "execution_count": 26,
   "metadata": {},
   "outputs": [
    {
     "name": "stdout",
     "output_type": "stream",
     "text": [
      "[[0.         0.78528828 0.         0.6191303  0.        ]\n",
      " [0.70710678 0.         0.         0.         0.70710678]\n",
      " [0.53256952 0.         0.         0.65782931 0.53256952]\n",
      " [0.36626037 0.         0.57381765 0.         0.73252075]]\n",
      "['bright', 'bule', 'shining', 'sky', 'sun']\n"
     ]
    }
   ],
   "source": [
    "from sklearn.feature_extraction.text import TfidfVectorizer\n",
    "\n",
    "\n",
    "\n",
    "\n",
    "documents = ['The sky is bule', 'The sun is bright', 'The sun in the sky is bright', 'we can see the shining sun, the bright sun']\n",
    "\n",
    "vectorizer = TfidfVectorizer(stop_words='english')\n",
    "tf_idf_matrix = vectorizer.fit_transform(documents)\n",
    "print(tf_idf_matrix.toarray())\n",
    "print(vectorizer.get_feature_names())"
   ]
  },
  {
   "cell_type": "code",
   "execution_count": 37,
   "metadata": {},
   "outputs": [
    {
     "data": {
      "text/plain": [
       "['sun', 'bright', 'sky', 'bule', 'shining']"
      ]
     },
     "execution_count": 37,
     "metadata": {},
     "output_type": "execute_result"
    }
   ],
   "source": [
    "list(reversed([vectorizer.get_feature_names()[list(tf_idf_matrix.toarray().sum(axis=0)).index(i)] for i in sorted(tf_idf_matrix.toarray().sum(axis=0))]))\n",
    "\n"
   ]
  },
  {
   "cell_type": "code",
   "execution_count": 49,
   "metadata": {},
   "outputs": [],
   "source": [
    "d = dict()\n",
    "for i in range(5):\n",
    "    d[vectorizer.get_feature_names()[i]] = tf_idf_matrix.toarray().sum(axis=0)[i]"
   ]
  },
  {
   "cell_type": "code",
   "execution_count": 50,
   "metadata": {},
   "outputs": [
    {
     "data": {
      "text/plain": [
       "{'bright': 1.605936677684143,\n",
       " 'bule': 0.7852882757103967,\n",
       " 'shining': 0.5738176501168697,\n",
       " 'sky': 1.27695960978985,\n",
       " 'sun': 1.9721970507561841}"
      ]
     },
     "execution_count": 50,
     "metadata": {},
     "output_type": "execute_result"
    }
   ],
   "source": [
    "d"
   ]
  },
  {
   "cell_type": "code",
   "execution_count": 52,
   "metadata": {},
   "outputs": [
    {
     "data": {
      "text/plain": [
       "[(0.5738176501168697, 'shining'),\n",
       " (0.7852882757103967, 'bule'),\n",
       " (1.27695960978985, 'sky'),\n",
       " (1.605936677684143, 'bright'),\n",
       " (1.9721970507561841, 'sun')]"
      ]
     },
     "execution_count": 52,
     "metadata": {},
     "output_type": "execute_result"
    }
   ],
   "source": [
    "sorted(zip(dict().values(),dict().keys()))"
   ]
  },
  {
   "cell_type": "code",
   "execution_count": null,
   "metadata": {},
   "outputs": [],
   "source": []
  }
 ],
 "metadata": {
  "kernelspec": {
   "display_name": "Python 3",
   "language": "python",
   "name": "python3"
  },
  "language_info": {
   "codemirror_mode": {
    "name": "ipython",
    "version": 3
   },
   "file_extension": ".py",
   "mimetype": "text/x-python",
   "name": "python",
   "nbconvert_exporter": "python",
   "pygments_lexer": "ipython3",
   "version": "3.7.6"
  }
 },
 "nbformat": 4,
 "nbformat_minor": 2
}
