{
 "cells": [
  {
   "cell_type": "code",
   "execution_count": 2,
   "metadata": {},
   "outputs": [],
   "source": [
    "\"\"\"Given an array of numbers and a target values t, find two numbers that sum to t(that is a[i] + a[j] = t)\"\"\"\n",
    "def two_sum(array, t):\n",
    "    s = set()\n",
    "    for i in array:\n",
    "        if i in s:\n",
    "            return (t-i, i)\n",
    "        else:\n",
    "            s.add(t-i)\n",
    "    return None\n"
   ]
  },
  {
   "cell_type": "code",
   "execution_count": 6,
   "metadata": {},
   "outputs": [],
   "source": [
    "two_sum([1,2,3,4,5], 15)"
   ]
  },
  {
   "cell_type": "code",
   "execution_count": 8,
   "metadata": {},
   "outputs": [
    {
     "name": "stdout",
     "output_type": "stream",
     "text": [
      "(0, 1)\n"
     ]
    }
   ],
   "source": [
    "\"\"\"Given 2 arrays of n numbers of each, find a pair of numbers (one from each array)\n",
    "whose sum is closest to a given target t.\"\"\"\n",
    "arr1 = [5,3,7,16]\n",
    "arr2 = [9,3,-8,15]\n",
    "\n",
    "\n",
    "def closest_sum(ls1, ls2, t):\n",
    "    closest = None\n",
    "    for i in range(len(ls1)):\n",
    "        for j in range(len(ls2)):\n",
    "            if closest == None:\n",
    "                closest = (i,j)\n",
    "            if abs(ls1[i] + ls2[j] - t) < abs(ls1[closest[0]] + ls2[closest[1]] - t):\n",
    "                return (i,j)\n",
    "    return closest\n",
    "\n",
    "print(closest_sum(arr1, arr2, 8))"
   ]
  },
  {
   "cell_type": "code",
   "execution_count": 3,
   "metadata": {},
   "outputs": [
    {
     "data": {
      "text/plain": [
       "\"reverse a linked list by reusing nodes. Don't create new nodes.\""
      ]
     },
     "execution_count": 3,
     "metadata": {},
     "output_type": "execute_result"
    }
   ],
   "source": [
    "\"\"\"reverse a linked list by reusing nodes. Don't create new nodes.\"\"\"\n",
    "\"\"\"\n",
    "class Node(object):\n",
    "    def __init__(self, val):\n",
    "        \n",
    "\n",
    "\"\"\""
   ]
  },
  {
   "cell_type": "code",
   "execution_count": 13,
   "metadata": {},
   "outputs": [
    {
     "name": "stdout",
     "output_type": "stream",
     "text": [
      "[16, 7, 5]\n"
     ]
    }
   ],
   "source": [
    "'''Find the kth largests numbers in an array of n numbers return in sorted decreasing order.'''\n",
    "def find_kth_largest(arr, k):\n",
    "    arr.sort()\n",
    "    arr2 = arr[-k:]\n",
    "    arr2.reverse()\n",
    "    return arr2\n",
    "\n",
    "print(find_kth_largest([5,3,7,16], 3))\n",
    "    "
   ]
  },
  {
   "cell_type": "code",
   "execution_count": null,
   "metadata": {},
   "outputs": [],
   "source": [
    "def find_kth_largest(arr, k):\n",
    "    largest = [None for i in k]\n",
    "    for i in arr:\n",
    "        if largest[0] = None:\n",
    "            largest[0] = i\n",
    "        \n",
    "        if i > largest[0]:\n",
    "            largest.insert(0, i)\n",
    "        elif \n",
    "            "
   ]
  },
  {
   "cell_type": "code",
   "execution_count": 82,
   "metadata": {},
   "outputs": [],
   "source": [
    "def    a_function(n, name): h=[f'Hi {name}' if n/2 == 1 else '' for i in range(1)];     '''if n == 2 print hi {name} how are you''';print('Name was '+name);print('n was '+str(n));print(h[0]);\n",
    "    "
   ]
  },
  {
   "cell_type": "code",
   "execution_count": 83,
   "metadata": {},
   "outputs": [
    {
     "name": "stdout",
     "output_type": "stream",
     "text": [
      "Name was Douglas\n",
      "n was 2\n",
      "Hi Douglas\n"
     ]
    }
   ],
   "source": [
    "a_function(2,'Douglas')"
   ]
  },
  {
   "cell_type": "code",
   "execution_count": 89,
   "metadata": {},
   "outputs": [],
   "source": [
    "# Given an sting of words and number k find the kth amount of words tha appear the most\n",
    "# return the words in sorted desending order\n",
    "def find_k_words(string, k):\n",
    "    counts = {}\n",
    "    for word in string.split():\n",
    "        if counts.get(word) == None:\n",
    "            counts[word] = 1\n",
    "        else:\n",
    "            counts[word] += 1\n",
    "    words = []\n",
    "    for i in range(k):\n",
    "        key = max(counts, key=counts.get)\n",
    "        words.append(key)\n",
    "        counts[key] = -1\n",
    "    return words"
   ]
  },
  {
   "cell_type": "code",
   "execution_count": 91,
   "metadata": {},
   "outputs": [
    {
     "data": {
      "text/plain": [
       "['a', 'is', 'This']"
      ]
     },
     "execution_count": 91,
     "metadata": {},
     "output_type": "execute_result"
    }
   ],
   "source": [
    "find_k_words('This is a string a a is', 3)"
   ]
  },
  {
   "cell_type": "code",
   "execution_count": 94,
   "metadata": {},
   "outputs": [],
   "source": [
    "# given list of n numbers determin if list contains duplicates\n",
    "def contains_duplicates(ls):\n",
    "    letter_set = set()\n",
    "    for letter in ls:\n",
    "        if letter in letter_set:\n",
    "            return True\n",
    "        letter_set.add(letter)\n",
    "    return False\n",
    "\n",
    "    "
   ]
  },
  {
   "cell_type": "code",
   "execution_count": 96,
   "metadata": {},
   "outputs": [
    {
     "data": {
      "text/plain": [
       "True"
      ]
     },
     "execution_count": 96,
     "metadata": {},
     "output_type": "execute_result"
    }
   ],
   "source": [
    "contains_duplicates('abcdaefg')"
   ]
  },
  {
   "cell_type": "code",
   "execution_count": 11,
   "metadata": {},
   "outputs": [],
   "source": [
    "\"\"\" Return strings that begin with capital letters\"\"\"\n",
    "def return_if_caps(array):\n",
    "    new_array = []\n",
    "    for string in array:\n",
    "        if string[0] <= 'Z' and string[0] >= 'A':\n",
    "            new_array.append(string)\n",
    "    return new_array"
   ]
  },
  {
   "cell_type": "code",
   "execution_count": 12,
   "metadata": {},
   "outputs": [
    {
     "data": {
      "text/plain": [
       "['Ab', 'Za', 'Gj']"
      ]
     },
     "execution_count": 12,
     "metadata": {},
     "output_type": "execute_result"
    }
   ],
   "source": [
    "return_if_caps(['Ab', 'bA', 'Za', '1', '@', 'Gj'])"
   ]
  },
  {
   "cell_type": "code",
   "execution_count": 20,
   "metadata": {},
   "outputs": [],
   "source": [
    "\"\"\"longest substring of unique letters.\"\"\"\n",
    "def unique_substring(string):\n",
    "    longest = [0,0]\n",
    "    current = [0,0]\n",
    "    current_set = set()\n",
    "    while len(string) > current[1]:\n",
    "        if string[current[1]] in current_set:\n",
    "            if current[1] - current[0] > longest[1] - longest[0]:\n",
    "                longest[0] = current[0]\n",
    "                longest[1] = current[1]\n",
    "            current[0] += 1\n",
    "            current[1] = current[0]\n",
    "            current_set = set()\n",
    "        else:\n",
    "            current_set.add(string[current[1]])\n",
    "            current[1] += 1\n",
    "    if current[1] - current[0] > longest[1] - longest[0]:\n",
    "        return string[current[0]:current[1]]\n",
    "    return string[longest[0]:longest[1]]\n",
    "            "
   ]
  },
  {
   "cell_type": "code",
   "execution_count": 21,
   "metadata": {},
   "outputs": [
    {
     "name": "stdout",
     "output_type": "stream",
     "text": [
      "tangef\n"
     ]
    }
   ],
   "source": [
    "print(unique_substring(\"atangef\"))"
   ]
  },
  {
   "cell_type": "code",
   "execution_count": 70,
   "metadata": {},
   "outputs": [
    {
     "name": "stdout",
     "output_type": "stream",
     "text": [
      "mis\n"
     ]
    },
    {
     "data": {
      "text/plain": [
       "11"
      ]
     },
     "execution_count": 70,
     "metadata": {},
     "output_type": "execute_result"
    }
   ],
   "source": [
    "print(unique_substring('mississippi'))\n",
    "len('mississippi')"
   ]
  },
  {
   "cell_type": "code",
   "execution_count": 2,
   "metadata": {},
   "outputs": [
    {
     "name": "stdout",
     "output_type": "stream",
     "text": [
      "Testing on [1, 2, 3, 4], [1, 2, 7, 4]\n",
      "✅ Passed!\n"
     ]
    }
   ],
   "source": [
    "#################################################################\n",
    "# Interview Question:\n",
    "# Given two arrays, determine if both arrays contain exactly the \n",
    "# same elements in the same order.\n",
    "#\n",
    "# Difficulty: EASY\n",
    "#################################################################\n",
    "\n",
    "# Your variable table goes here!\n",
    "\n",
    "# Variable : Value\n",
    "# array1: [1, 2, 3, 4]\n",
    "# array2: [1, 2, 7, 4]\n",
    "# i: 0, 1, 2, 3\n",
    "#\n",
    "\n",
    "def arrays_identical(array1, array2):\n",
    "  # If arrays are different lengths, they are not identical.\n",
    "  if len(array1) != len(array2):\n",
    "    return False\n",
    "    \n",
    "  # Loop over each element to see if the items are equal.\n",
    "  for i in range(len(array1)):\n",
    "    if array1[i] != array2[i]:\n",
    "      return False\n",
    "  \n",
    "  # If all items are equal, then arrays are identical.\n",
    "  return True\n",
    "\n",
    "\n",
    "actual = arrays_identical([1, 2, 3, 4], [1, 2, 7, 4])\n",
    "expected = False\n",
    "\n",
    "print(f\"Testing on {[1, 2, 3, 4]}, {[1, 2, 7, 4]}\")\n",
    "if expected == actual:\n",
    "  print(\"✅ Passed!\")\n",
    "else:\n",
    "  print(f\"❌ Failed! Expected {expected}, got {actual}\")"
   ]
  },
  {
   "cell_type": "code",
   "execution_count": 5,
   "metadata": {},
   "outputs": [
    {
     "name": "stdout",
     "output_type": "stream",
     "text": [
      "Testing on [7, 2, 5, 9, 3, 4]\n",
      "✅ Passed!\n"
     ]
    }
   ],
   "source": [
    "#################################################################\n",
    "# Interview Question:\n",
    "# Given a list of n numbers, find the highest pair of adjacent\n",
    "# elements. That is, maximize a[i] + a[i+1] for some i.\n",
    "#\n",
    "# Difficulty: MEDIUM\n",
    "#################################################################\n",
    "\n",
    "\n",
    "# Your variable table goes here!\n",
    "\n",
    "# Variable : Value\n",
    "# the_list : [7, 2, 5, 9, 3, 4]\n",
    "# highest_pair : -inf\n",
    "# i: 0, 1, 2, 3, 4, 5\n",
    "#\n",
    "\n",
    "def find_highest_pair(the_list):\n",
    "  # Set it to lowest possible number\n",
    "  highest_pair = float('-inf')\n",
    "  \n",
    "  # Loop over all indices in the list\n",
    "  for i in range(len(the_list)-1):\n",
    "    # For each index, see if the pair starting at index is higher\n",
    "    # than highest we've seen so far\n",
    "    if the_list[i] + the_list[i+1] > highest_pair:\n",
    "      highest_pair = the_list[i] + the_list[i+1]\n",
    "      \n",
    "  return highest_pair\n",
    "  \n",
    "\n",
    "actual = find_highest_pair([7, 2, 5, 9, 3, 4])\n",
    "expected = 14\n",
    "\n",
    "print(f\"Testing on {[7, 2, 5, 9, 3, 4]}\")\n",
    "if expected == actual:\n",
    "  print(\"✅ Passed!\")\n",
    "else:\n",
    "  print(f\"❌ Failed! Expected {expected}, got {actual}\")"
   ]
  },
  {
   "cell_type": "code",
   "execution_count": 10,
   "metadata": {},
   "outputs": [
    {
     "name": "stdout",
     "output_type": "stream",
     "text": [
      "Testing on 'one fish two fish red fish blue fish'\n",
      "✅ Passed!\n"
     ]
    }
   ],
   "source": [
    "#################################################################\n",
    "# Interview Question:\n",
    "# Given a string containing a long text, find the most commonly \n",
    "# occurring word in the text as well as its count.\n",
    "#\n",
    "# Difficulty: MEDIUM\n",
    "#################################################################\n",
    "\n",
    "\n",
    "# Your variable table goes here!\n",
    "\n",
    "# Variable : Value\n",
    "# text : 'one fish two fish red fish blue fish'\n",
    "# text_as_list : [one, fish, two, fish, red, fish, blue, fish]\n",
    "# histogram = {}, {'one': 1}, {'one': 1, 'fish': 1}, {'one': 1, 'fish': 1, 'two': 1}, {'one': 1, 'fish': 2, 'two': 1},\n",
    "# {'one': 1, 'fish': 2, 'two': 1, 'red': 1}, {'one': 1, 'fish': 3, 'two': 1, 'red': 1}, {'one': 1, 'fish': 3, 'two': 1, 'red': 1, 'blue': 1},\n",
    "# {'one': 1, 'fish': 4, 'two': 1, 'red': 1, 'blue': 1}\n",
    "# word : one, fish, two, fish, red, fish, blue, fish, one, fish, two, red, blue\n",
    "# most_common_word : one, fish\n",
    "\n",
    "def find_most_common_word(text):\n",
    "  text_as_list = text.split(' ')\n",
    "  histogram = {}\n",
    "  \n",
    "  # Make a dictionary of word -> count\n",
    "  for word in text_as_list:\n",
    "    if word not in histogram:\n",
    "      histogram[word] = 1\n",
    "    else:\n",
    "      histogram[word] += 1\n",
    "      \n",
    "  # Find most common word\n",
    "  most_common_word = text_as_list[0]\n",
    "  for word in histogram:\n",
    "    if histogram[word] > histogram[most_common_word]:\n",
    "      most_common_word = word\n",
    "  \n",
    "  return most_common_word, histogram[most_common_word]\n",
    "\n",
    "\n",
    "expected = ('fish', 4)\n",
    "actual = find_most_common_word('one fish two fish red fish blue fish')\n",
    "\n",
    "print(\"Testing on 'one fish two fish red fish blue fish'\")\n",
    "if expected == actual:\n",
    "  print(\"✅ Passed!\")\n",
    "else:\n",
    "  print(f\"❌ Failed! Expected {expected}, got {actual}\")"
   ]
  },
  {
   "cell_type": "code",
   "execution_count": 23,
   "metadata": {},
   "outputs": [
    {
     "name": "stdout",
     "output_type": "stream",
     "text": [
      "Testing on 'abcaxyz'\n",
      "✅ Passed!\n"
     ]
    }
   ],
   "source": [
    "#################################################################\n",
    "# Interview Question:\n",
    "# Given a string, find the longest substring containing all unique\n",
    "# characters.\n",
    "#\n",
    "# Difficulty: HARD\n",
    "#################################################################\n",
    "\n",
    "\"\"\"Helper class to store a histogram of letter -> count.\"\"\"\n",
    "\n",
    "\n",
    "class Histogram:\n",
    "    def __init__(self):\n",
    "        self.dict = {}\n",
    "\n",
    "    def add(self, value):\n",
    "        \"\"\"If value already exists, increase its count. Otherwise, add it.\"\"\"\n",
    "        if value in self.dict:\n",
    "            self.dict[value] += 1\n",
    "        else:\n",
    "            self.dict[value] = 1\n",
    "\n",
    "    def remove(self, value):\n",
    "        \"\"\"Decrease value's count. If count <= 0, remove it.\"\"\"\n",
    "        if value not in self.dict:\n",
    "            pass\n",
    "        self.dict[value] -= 1\n",
    "        if self.dict[value] <= 0:\n",
    "            self.dict.pop(value)\n",
    "\n",
    "    def contains(self, value):\n",
    "        return value in self.dict\n",
    "\n",
    "    def get(self, value):\n",
    "        return self.dict[value]\n",
    "\n",
    "\n",
    "# Your variable table goes here!\n",
    "\n",
    "# Variable : Value\n",
    "# string : 'abcaxyz'\n",
    "# start : 0\n",
    "# end : 0, 1\n",
    "# char_seen : {}, {'a': 1}\n",
    "# longest_unique : '', 'a'\n",
    "# next_char : a, \n",
    "\n",
    "def longest_unique_substring(string):\n",
    "    # Define starting variables. 'start' and 'end' will determine which\n",
    "    # substring we're currently looking at\n",
    "    start = 0\n",
    "    end = 0\n",
    "    chars_seen = Histogram()\n",
    "\n",
    "    longest_unique = ''\n",
    "\n",
    "    while end < len(string):\n",
    "\n",
    "        next_char = string[end]\n",
    "\n",
    "        while chars_seen.contains(next_char):\n",
    "            chars_seen.remove(string[start])\n",
    "            start += 1\n",
    "\n",
    "        chars_seen.add(next_char)\n",
    "        end += 1\n",
    "        if len(string[start:end]) > len(longest_unique):\n",
    "            longest_unique = string[start:end]\n",
    "\n",
    "    return longest_unique\n",
    "  \n",
    "\n",
    "expected = 'bcaxyz'\n",
    "actual = longest_unique_substring('abcaxyz')\n",
    "\n",
    "print(\"Testing on 'abcaxyz'\")\n",
    "if expected == actual:\n",
    "    print(\"✅ Passed!\")\n",
    "else:\n",
    "    print(f\"❌ Failed! Expected {expected}, got {actual}\")"
   ]
  },
  {
   "cell_type": "code",
   "execution_count": null,
   "metadata": {},
   "outputs": [],
   "source": []
  }
 ],
 "metadata": {
  "kernelspec": {
   "display_name": "Python 3",
   "language": "python",
   "name": "python3"
  },
  "language_info": {
   "codemirror_mode": {
    "name": "ipython",
    "version": 3
   },
   "file_extension": ".py",
   "mimetype": "text/x-python",
   "name": "python",
   "nbconvert_exporter": "python",
   "pygments_lexer": "ipython3",
   "version": "3.7.6"
  }
 },
 "nbformat": 4,
 "nbformat_minor": 2
}
